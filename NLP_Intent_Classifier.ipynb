{
 "cells": [
  {
   "cell_type": "code",
   "execution_count": 2,
   "metadata": {},
   "outputs": [],
   "source": [
    "training_data = []\n",
    "training_data.append((\"how are you\",\"greeting\"))\n",
    "training_data.append((\"good morning\",\"greeting\"))\n",
    "training_data.append((\"wassup\",\"greeting\"))\n",
    "training_data.append((\"how is it going\",\"greeting\"))\n",
    "\n",
    "training_data.append((\"phone number\",\"call\"))\n",
    "training_data.append((\"telephone number\",\"call\"))\n",
    "training_data.append((\"provide mobile details\",\"call\"))\n",
    "training_data.append((\"contact details\",\"call\"))\n",
    "\n",
    "training_data.append((\"comments on photo\",\"facebook\"))\n",
    "training_data.append((\"add a friend\",\"facebook\"))\n",
    "training_data.append((\"react to a video\",\"facebook\"))\n",
    "training_data.append((\"This photo has a lot of likes\",\"facebook\"))"
   ]
  },
  {
   "cell_type": "code",
   "execution_count": 3,
   "metadata": {},
   "outputs": [
    {
     "name": "stdout",
     "output_type": "stream",
     "text": [
      "[nltk_data] Downloading package punkt to C:\\Users\\shaify's beast\n",
      "[nltk_data]     .DESKTOP-UQV5OIU\\AppData\\Roaming\\nltk_data...\n",
      "[nltk_data]   Package punkt is already up-to-date!\n",
      "[nltk_data] Downloading package averaged_perceptron_tagger to\n",
      "[nltk_data]     C:\\Users\\shaify's beast .DESKTOP-\n",
      "[nltk_data]     UQV5OIU\\AppData\\Roaming\\nltk_data...\n",
      "[nltk_data]   Package averaged_perceptron_tagger is already up-to-\n",
      "[nltk_data]       date!\n",
      "[nltk_data] Downloading package stopwords to C:\\Users\\shaify's beast\n",
      "[nltk_data]     .DESKTOP-UQV5OIU\\AppData\\Roaming\\nltk_data...\n",
      "[nltk_data]   Package stopwords is already up-to-date!\n",
      "[nltk_data] Downloading package wordnet to C:\\Users\\shaify's beast\n",
      "[nltk_data]     .DESKTOP-UQV5OIU\\AppData\\Roaming\\nltk_data...\n",
      "[nltk_data]   Package wordnet is already up-to-date!\n"
     ]
    }
   ],
   "source": [
    "import nltk\n",
    "nltk.download('punkt')\n",
    "nltk.download('averaged_perceptron_tagger')\n",
    "nltk.download('stopwords')\n",
    "nltk.download('wordnet')\n",
    "\n",
    "def bag_of_words(words):\n",
    "  return dict([(word, True) for word in words])\n",
    "\n",
    "def process_sentence(x):\n",
    "    words = nltk.tokenize.word_tokenize(x) \n",
    "    postag= nltk.pos_tag(words)\n",
    "    stopwords = nltk.corpus.stopwords.words('english')\n",
    "    lemmatizer = nltk.WordNetLemmatizer()\n",
    "    processedwords=[]    \n",
    "    #Remove Stop words and lemmatize verbs\n",
    "    for w in postag:\n",
    "        if \"VB\" in w[1]:\n",
    "            processedwords.append(lemmatizer.lemmatize(w[0].lower(),'v'))\n",
    "        else:\n",
    "            processedwords.append(lemmatizer.lemmatize(w[0],'n').lower())\n",
    "    l=[]\n",
    "    for w in processedwords:\n",
    "        if w.lower()==\"not\":\n",
    "            l.append(w)\n",
    "        elif w not in stopwords:\n",
    "            if (len(w)>2):\n",
    "                l.append(w)\n",
    "    \n",
    "    return bag_of_words(l)\n"
   ]
  },
  {
   "cell_type": "code",
   "execution_count": 4,
   "metadata": {},
   "outputs": [
    {
     "name": "stdout",
     "output_type": "stream",
     "text": [
      "{'welcome': True, 'india': True, 'run': True, 'home': True}\n"
     ]
    }
   ],
   "source": [
    "training_data\n",
    "print(process_sentence('Welcome to India i m running home'))"
   ]
  },
  {
   "cell_type": "code",
   "execution_count": 4,
   "metadata": {},
   "outputs": [],
   "source": [
    "featuresets = [(process_sentence(n), intent) for (n, intent) in training_data]\n",
    "featuresets = [ (n, intent) for (n, intent) in featuresets if n]"
   ]
  },
  {
   "cell_type": "code",
   "execution_count": 5,
   "metadata": {},
   "outputs": [
    {
     "data": {
      "text/plain": [
       "[({'good': True, 'morning': True}, 'greeting'),\n",
       " ({'wassup': True}, 'greeting'),\n",
       " ({'phone': True, 'number': True}, 'call'),\n",
       " ({'telephone': True, 'number': True}, 'call'),\n",
       " ({'provide': True, 'mobile': True, 'detail': True}, 'call'),\n",
       " ({'contact': True, 'detail': True}, 'call'),\n",
       " ({'comment': True, 'photo': True}, 'facebook'),\n",
       " ({'add': True, 'friend': True}, 'facebook'),\n",
       " ({'react': True, 'video': True}, 'facebook'),\n",
       " ({'photo': True, 'lot': True, 'like': True}, 'facebook')]"
      ]
     },
     "execution_count": 5,
     "metadata": {},
     "output_type": "execute_result"
    }
   ],
   "source": [
    "featuresets"
   ]
  },
  {
   "cell_type": "code",
   "execution_count": 6,
   "metadata": {},
   "outputs": [],
   "source": [
    "classifier= nltk.NaiveBayesClassifier.train(featuresets)\n",
    "\n",
    "def score(input_sent):\n",
    "    dist = classifier.prob_classify(process_sentence(input_sent))\n",
    "    for label in dist.samples():\n",
    "        print(\"%s: %f\" % (label, dist.prob(label)))\n",
    "\n",
    "def intent(input_sent):\n",
    "    dist = classifier.classify(process_sentence(input_sent))\n",
    "    return dist"
   ]
  },
  {
   "cell_type": "code",
   "execution_count": 7,
   "metadata": {},
   "outputs": [],
   "source": [
    "input_sent=\"My friend commented on my timeline\"\n",
    "#"
   ]
  },
  {
   "cell_type": "code",
   "execution_count": 8,
   "metadata": {},
   "outputs": [
    {
     "name": "stdout",
     "output_type": "stream",
     "text": [
      "greeting: 0.133690\n",
      "call: 0.086631\n",
      "facebook: 0.779679\n"
     ]
    }
   ],
   "source": [
    "score(input_sent)"
   ]
  },
  {
   "cell_type": "code",
   "execution_count": 9,
   "metadata": {},
   "outputs": [
    {
     "data": {
      "text/plain": [
       "'call'"
      ]
     },
     "execution_count": 9,
     "metadata": {},
     "output_type": "execute_result"
    }
   ],
   "source": [
    "input_sent=\"call my mobile\"\n",
    "intent(input_sent)"
   ]
  },
  {
   "cell_type": "code",
   "execution_count": 10,
   "metadata": {},
   "outputs": [
    {
     "name": "stdout",
     "output_type": "stream",
     "text": [
      "greeting: 0.187970\n",
      "call: 0.609023\n",
      "facebook: 0.203008\n"
     ]
    }
   ],
   "source": [
    "score(input_sent)"
   ]
  },
  {
   "cell_type": "code",
   "execution_count": 11,
   "metadata": {},
   "outputs": [
    {
     "data": {
      "text/plain": [
       "'greeting'"
      ]
     },
     "execution_count": 11,
     "metadata": {},
     "output_type": "execute_result"
    }
   ],
   "source": [
    "input_sent=\"good afternoon\"\n",
    "intent(input_sent)"
   ]
  },
  {
   "cell_type": "code",
   "execution_count": 12,
   "metadata": {},
   "outputs": [
    {
     "name": "stdout",
     "output_type": "stream",
     "text": [
      "greeting: 0.581395\n",
      "call: 0.209302\n",
      "facebook: 0.209302\n"
     ]
    }
   ],
   "source": [
    "score(input_sent)"
   ]
  },
  {
   "cell_type": "code",
   "execution_count": 13,
   "metadata": {},
   "outputs": [],
   "source": [
    "input_sent=\"give me contact details\""
   ]
  },
  {
   "cell_type": "code",
   "execution_count": 14,
   "metadata": {},
   "outputs": [
    {
     "data": {
      "text/plain": [
       "'call'"
      ]
     },
     "execution_count": 14,
     "metadata": {},
     "output_type": "execute_result"
    }
   ],
   "source": [
    "intent(input_sent)"
   ]
  },
  {
   "cell_type": "raw",
   "metadata": {},
   "source": [
    "score(input_sent)"
   ]
  },
  {
   "cell_type": "code",
   "execution_count": 15,
   "metadata": {},
   "outputs": [
    {
     "name": "stdout",
     "output_type": "stream",
     "text": [
      "greeting: 0.087966\n",
      "call: 0.855032\n",
      "facebook: 0.057002\n"
     ]
    }
   ],
   "source": [
    "score(input_sent)"
   ]
  },
  {
   "cell_type": "code",
   "execution_count": null,
   "metadata": {},
   "outputs": [],
   "source": []
  }
 ],
 "metadata": {
  "kernelspec": {
   "display_name": "Python 3",
   "language": "python",
   "name": "python3"
  },
  "language_info": {
   "codemirror_mode": {
    "name": "ipython",
    "version": 3
   },
   "file_extension": ".py",
   "mimetype": "text/x-python",
   "name": "python",
   "nbconvert_exporter": "python",
   "pygments_lexer": "ipython3",
   "version": "3.6.5"
  }
 },
 "nbformat": 4,
 "nbformat_minor": 2
}
